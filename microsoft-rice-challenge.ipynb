{
 "cells": [
  {
   "cell_type": "code",
   "execution_count": null,
   "id": "610227df",
   "metadata": {
    "execution": {
     "iopub.execute_input": "2022-07-11T13:24:03.891547Z",
     "iopub.status.busy": "2022-07-11T13:24:03.890392Z",
     "iopub.status.idle": "2022-07-11T13:24:04.610021Z",
     "shell.execute_reply": "2022-07-11T13:24:04.608779Z",
     "shell.execute_reply.started": "2022-07-11T13:24:03.891498Z"
    },
    "papermill": {
     "duration": null,
     "end_time": null,
     "exception": null,
     "start_time": null,
     "status": "pending"
    },
    "tags": []
   },
   "outputs": [],
   "source": [
    "import os\n",
    "import pandas as pd\n",
    "import PIL\n",
    "from PIL import Image\n",
    "import numpy as np\n",
    "import torch\n",
    "import matplotlib.pyplot as plt\n",
    "from torch import nn\n",
    "\n",
    "\n",
    "ROOT_PATH = \"..\"\n",
    "\n",
    "DATA_PATH = os.path.join(ROOT_PATH,\"input/rice-data/dataset\")\n",
    "IMAGES = os.path.join(DATA_PATH,\"Images\")\n",
    "\n",
    "\n",
    "%ls $DATA_PATH\n",
    "train_data = pd.read_csv(DATA_PATH+\"/Train.csv\")\n"
   ]
  },
  {
   "cell_type": "code",
   "execution_count": null,
   "id": "fc4abf98",
   "metadata": {
    "execution": {
     "iopub.execute_input": "2022-07-11T13:24:06.997556Z",
     "iopub.status.busy": "2022-07-11T13:24:06.997177Z",
     "iopub.status.idle": "2022-07-11T13:24:07.077165Z",
     "shell.execute_reply": "2022-07-11T13:24:07.076246Z",
     "shell.execute_reply.started": "2022-07-11T13:24:06.997523Z"
    },
    "papermill": {
     "duration": null,
     "end_time": null,
     "exception": null,
     "start_time": null,
     "status": "pending"
    },
    "tags": []
   },
   "outputs": [],
   "source": [
    "idx_to_drop=[]\n",
    "for i,row in  enumerate(train_data.Image_id):\n",
    "    if train_data.Image_id[i][-8:-4]==\"_rgn\":\n",
    "        idx_to_drop.append(i)\n",
    "        \n",
    "train_data.drop(index=idx_to_drop, inplace=True)\n",
    "train_data.reset_index(drop=True,inplace=True)"
   ]
  },
  {
   "cell_type": "code",
   "execution_count": null,
   "id": "fdb677db",
   "metadata": {
    "execution": {
     "iopub.execute_input": "2022-07-11T13:24:09.549840Z",
     "iopub.status.busy": "2022-07-11T13:24:09.549358Z",
     "iopub.status.idle": "2022-07-11T13:24:09.576911Z",
     "shell.execute_reply": "2022-07-11T13:24:09.574947Z",
     "shell.execute_reply.started": "2022-07-11T13:24:09.549799Z"
    },
    "papermill": {
     "duration": null,
     "end_time": null,
     "exception": null,
     "start_time": null,
     "status": "pending"
    },
    "tags": []
   },
   "outputs": [],
   "source": [
    "import sys\n",
    "\n",
    "def name2rgn(name_string):\n",
    "    return name_string[:-4]+\"_rgn.jpg\"\n",
    "\n",
    "\n",
    "def set_parameter_requires_grad(model, feature_extracting):\n",
    "    if feature_extracting:\n",
    "        for param in model.parameters():\n",
    "            param.requires_grad = False\n",
    "\n",
    "\n",
    "class Identity_lay(nn.Module):\n",
    "    def __init__(self):\n",
    "        super(Identity_lay, self).__init__()\n",
    "        \n",
    "    def forward(self, x):\n",
    "        return x           \n",
    "            \n",
    "def init_model(base,extract_feature):\n",
    "    #vgg\n",
    "    if base ==\"vgg\":\n",
    "        model_tmp = torch.hub.load('pytorch/vision:v0.10.0', 'vgg11', pretrained=True)\n",
    "        train_batch_size=128\n",
    "        set_parameter_requires_grad(model_tmp, extract_feature)\n",
    "        num_ftrs = model_tmp.classifier[6].out_features\n",
    "        model_tmp.classifier.append(nn.ReLU(inplace=True))\n",
    "        model_tmp.classifier.append(nn.Dropout())\n",
    "        model_tmp.classifier.append(nn.Linear(num_ftrs,NUM_CLASSES))\n",
    "    \n",
    "    elif base==\"alex\":        \n",
    "        model_tmp = torch.hub.load('pytorch/vision:v0.10.0', 'alexnet', pretrained=True)\n",
    "        train_batch_size=512\n",
    "        \n",
    "    elif base == \"squeeze\":\n",
    "        model_tmp=model = torch.hub.load('pytorch/vision:v0.10.0', 'squeezenet1_0', pretrained=True)\n",
    "    \n",
    "    elif base==\"ggNet\":\n",
    "        model_tmp = torch.hub.load('pytorch/vision:v0.10.0', 'googlenet', pretrained=True)\n",
    "        num_ftrs = model_tmp.fc.in_features\n",
    "#         model_tmp.fc=nn.Linear(num_ftrs,NUM_CLASSES)\n",
    "        model_tmp.fc=Identity_lay()\n",
    "        model_tmp.dropout=Identity_lay()\n",
    "        train_batch_size=512\n",
    "\n",
    "    return model_tmp\n",
    "\n",
    "\n",
    "def params2update(model,extract_feature):\n",
    "    print(\"Params to learn:\")\n",
    "    params_to_update=model.parameters()\n",
    "    if extract_feature:\n",
    "        params_to_update = []\n",
    "        for name,param in model.named_parameters():\n",
    "            if param.requires_grad == True:\n",
    "                params_to_update.append(param)\n",
    "                print(\"\\t\",name)\n",
    "    else:\n",
    "        for name,param in model.named_parameters():\n",
    "            if param.requires_grad == True:\n",
    "                print(\"\\t\",name)\n",
    "    return params_to_update\n",
    "\n",
    "class mem_tracker:\n",
    "    \n",
    "    def __init__(self):\n",
    "        self.last_mem = 0\n",
    "    \n",
    "    def get_mem(self):\n",
    "        tmp=torch.cuda.memory_allocated()\n",
    "        print(\"Total \",tmp/1e6,'MB ---',\"Allocated from last check \",(tmp-self.last_mem)/(1e6),'MB')\n",
    "        self.last_mem=tmp"
   ]
  },
  {
   "cell_type": "code",
   "execution_count": null,
   "id": "57c06803",
   "metadata": {
    "execution": {
     "iopub.execute_input": "2022-07-11T13:42:31.805796Z",
     "iopub.status.busy": "2022-07-11T13:42:31.805129Z",
     "iopub.status.idle": "2022-07-11T13:42:41.553246Z",
     "shell.execute_reply": "2022-07-11T13:42:41.552036Z",
     "shell.execute_reply.started": "2022-07-11T13:42:31.805761Z"
    },
    "papermill": {
     "duration": null,
     "end_time": null,
     "exception": null,
     "start_time": null,
     "status": "pending"
    },
    "tags": []
   },
   "outputs": [],
   "source": [
    "import cv2\n",
    "\n",
    "#take 4 random images \n",
    "idx = torch.randperm(len(train_data))\n",
    "\n",
    "plt.figure()\n",
    "\n",
    "#subplot(r,c) provide the no. of rows and columns\n",
    "fig, ax = plt.subplots(2 , 4 , figsize=(100,50))\n",
    "\n",
    "for i in range(4):\n",
    "    img_path = os.path.join(IMAGES,train_data.Image_id[idx[i].item()])\n",
    "    img_path_rgn = os.path.join(IMAGES,train_data.Image_id[idx[i].item()])[:-4]+\"_rgn.jpg\"\n",
    "    \n",
    "    im = cv2.cvtColor(plt.imread(img_path), cv2.COLOR_BGR2HSV )\n",
    "    rgn_im = cv2.cvtColor(plt.imread(img_path_rgn), cv2.COLOR_BGR2HSV )\n",
    "\n",
    "\n",
    "    ax[0,i].imshow(im)\n",
    "    ax[1,i].imshow(rgn_im)\n",
    "    print(train_data.Label[idx[i].item()])"
   ]
  },
  {
   "cell_type": "code",
   "execution_count": null,
   "id": "9f2980d3",
   "metadata": {
    "execution": {
     "iopub.execute_input": "2022-07-11T10:25:20.487958Z",
     "iopub.status.busy": "2022-07-11T10:25:20.487368Z",
     "iopub.status.idle": "2022-07-11T10:25:20.702773Z",
     "shell.execute_reply": "2022-07-11T10:25:20.701955Z",
     "shell.execute_reply.started": "2022-07-11T10:25:20.487902Z"
    },
    "papermill": {
     "duration": null,
     "end_time": null,
     "exception": null,
     "start_time": null,
     "status": "pending"
    },
    "tags": []
   },
   "outputs": [],
   "source": [
    "#check if the dataset is balanced\n",
    "\n",
    "plt.hist(train_data.Label)\n"
   ]
  },
  {
   "cell_type": "code",
   "execution_count": null,
   "id": "27953ca1",
   "metadata": {
    "execution": {
     "iopub.execute_input": "2022-07-11T14:03:52.996736Z",
     "iopub.status.busy": "2022-07-11T14:03:52.995697Z",
     "iopub.status.idle": "2022-07-11T14:03:53.074398Z",
     "shell.execute_reply": "2022-07-11T14:03:53.073003Z",
     "shell.execute_reply.started": "2022-07-11T14:03:52.996685Z"
    },
    "papermill": {
     "duration": null,
     "end_time": null,
     "exception": null,
     "start_time": null,
     "status": "pending"
    },
    "tags": []
   },
   "outputs": [],
   "source": [
    "out = cv2.cvtColor(plt.imread(name2rgn(os.path.join(IMAGES,train_data.Image_id[idx[i].item()]))), cv2.COLOR_BGR2HSV )\n"
   ]
  },
  {
   "cell_type": "code",
   "execution_count": null,
   "id": "b4982e15",
   "metadata": {
    "execution": {
     "iopub.execute_input": "2022-07-11T14:49:52.481602Z",
     "iopub.status.busy": "2022-07-11T14:49:52.481262Z",
     "iopub.status.idle": "2022-07-11T14:49:52.504132Z",
     "shell.execute_reply": "2022-07-11T14:49:52.502961Z",
     "shell.execute_reply.started": "2022-07-11T14:49:52.481574Z"
    },
    "papermill": {
     "duration": null,
     "end_time": null,
     "exception": null,
     "start_time": null,
     "status": "pending"
    },
    "tags": []
   },
   "outputs": [],
   "source": [
    "from torch import nn\n",
    "from torch.utils.data import Dataset,DataLoader\n",
    "import torchvision \n",
    "from torchvision import transforms\n",
    "from sklearn.model_selection import StratifiedKFold\n",
    "from numpy.ma.core import concatenate\n",
    "import multiprocessing as mp\n",
    "import ctypes\n",
    "\n",
    "class chromatize_Transform(nn.Module):\n",
    "    def __init__(self):\n",
    "        super().__init__()\n",
    "\n",
    "    def forward(self,y):\n",
    "        y=y/y.sum(0)\n",
    "\n",
    "        return y\n",
    "    \n",
    "class custom_dataset(Dataset):\n",
    "    def __init__(self,table,image_path,type_='train',num_batch=50,transforms=transforms.Compose([\n",
    "    transforms.Resize(256),\n",
    "    transforms.CenterCrop(224),\n",
    "    transforms.ToTensor(),\n",
    "    chromatize_Transform(),\n",
    "    transforms.Normalize(mean=[0.485, 0.456, 0.406], std=[0.229, 0.224, 0.225]),\n",
    "    ])):\n",
    "        self.num_batch =num_batch\n",
    "        self.name_table = table\n",
    "        self.path = image_path\n",
    "        self.transforms=transforms\n",
    "        skf = StratifiedKFold(n_splits=num_batch,shuffle=True)\n",
    "\n",
    "        self.mode = 0 # 0 RGB, 1 RGN, 2 both\n",
    "        self.encode_dict = {'healthy':0,'brown':1,'blast':2}\n",
    "        self.type=type_\n",
    "        \n",
    "        ##### caching to save time on dataloading \n",
    "        nb_samples= len(table)*224*224*3*2\n",
    "        shared_array_base = mp.Array(ctypes.c_float, nb_samples)\n",
    "        shared_array = np.ctypeslib.as_array(shared_array_base.get_obj())\n",
    "        shared_array = shared_array.reshape(len(table),3,224,224,2)\n",
    "        self.shared_array = torch.from_numpy(shared_array)\n",
    "        self.use_cache = False\n",
    "        \n",
    "        \n",
    "    def __getitem__(self,idx):\n",
    "        \n",
    "        conversion=cv2.COLOR_BGR2HSV\n",
    "        \n",
    "        path=os.path.join(self.path,self.name_table.Image_id[idx])\n",
    "        \n",
    "        if self.mode == 1:\n",
    "            \n",
    "            \n",
    "            out = cv2.cvtColor(plt.imread(name2rgn(path)), conversion )\n",
    "            out = Image.fromarray(out)\n",
    "            out=self.transforms(out)\n",
    "        \n",
    "        elif self.mode == 0:\n",
    "            out = cv2.cvtColor(plt.imread(path), conversion )\n",
    "            out = Image.fromarray(out)\n",
    "            out=self.transforms(out)\n",
    "        \n",
    "        else:\n",
    "            if self.use_cache==False:\n",
    "                \n",
    "#                 rgn_im=cv2.cvtColor(plt.imread(name2rgn(path)), conversion )\n",
    "\n",
    "#                 rgn_im = Image.fromarray(rgn_im)\n",
    "                rgn_im=Image.open(name2rgn(path))\n",
    "                tmp=rgn_im\n",
    "                #rgn_im=rgn_im/rgn_im.sum()\n",
    "                rgn_im=self.transforms(rgn_im).unsqueeze(-1)\n",
    "#                 im=cv2.cvtColor(plt.imread(path), conversion )\n",
    "#                 im = Image.fromarray(im)\n",
    "                im=Image.open(path)\n",
    "                im=self.transforms(im).unsqueeze(-1)\n",
    "                \n",
    "                out=torch.cat((im,rgn_im),dim=-1)\n",
    "                \n",
    "                \n",
    "                #normalize to obtain chromacity\n",
    "                self.shared_array[idx]=out\n",
    "                \n",
    "            else:\n",
    "                out = self.shared_array[idx]\n",
    "                \n",
    "        if self.type=='test':\n",
    "            return out \n",
    "        \n",
    "        label =  self.encode_dict[self.name_table.Label[idx]]\n",
    "        return out,label\n",
    "    \n",
    "\n",
    "    def set_mode(self,value):\n",
    "        self.mode=value\n",
    "    \n",
    "    def set_use_cache(self,value):\n",
    "        self.use_cache=value\n",
    "    \n",
    "    def __len__(self):\n",
    "        \n",
    "        return len(self.name_table)"
   ]
  },
  {
   "cell_type": "code",
   "execution_count": null,
   "id": "f64af5a9",
   "metadata": {
    "execution": {
     "iopub.execute_input": "2022-07-11T14:49:54.555001Z",
     "iopub.status.busy": "2022-07-11T14:49:54.554621Z",
     "iopub.status.idle": "2022-07-11T14:50:14.090229Z",
     "shell.execute_reply": "2022-07-11T14:50:14.086088Z",
     "shell.execute_reply.started": "2022-07-11T14:49:54.554968Z"
    },
    "papermill": {
     "duration": null,
     "end_time": null,
     "exception": null,
     "start_time": null,
     "status": "pending"
    },
    "tags": []
   },
   "outputs": [],
   "source": [
    "data = custom_dataset(train_data ,IMAGES )\n",
    "data.set_mode(2)\n"
   ]
  },
  {
   "cell_type": "code",
   "execution_count": null,
   "id": "b17b6780",
   "metadata": {
    "execution": {
     "iopub.execute_input": "2022-07-11T14:52:01.758041Z",
     "iopub.status.busy": "2022-07-11T14:52:01.756947Z",
     "iopub.status.idle": "2022-07-11T14:52:01.768035Z",
     "shell.execute_reply": "2022-07-11T14:52:01.766865Z",
     "shell.execute_reply.started": "2022-07-11T14:52:01.757995Z"
    },
    "papermill": {
     "duration": null,
     "end_time": null,
     "exception": null,
     "start_time": null,
     "status": "pending"
    },
    "tags": []
   },
   "outputs": [],
   "source": [
    "class classifier_model(nn.Module):\n",
    "    def __init__(self,base,extract_feat):\n",
    "        super(classifier_model,self).__init__()\n",
    "        self.base = init_model(base,extarct_feat)\n",
    "#         self.base.features.training =False\n",
    "        self.dropout=nn.Dropout(0.5)\n",
    "        self.fc=nn.Linear(2000,NUM_CLASSES)\n",
    "        self.sigmoid = nn.Sigmoid() \n",
    "        \n",
    "    def forward(self,y):\n",
    "        y1=y[:,:,:,:,0].squeeze()\n",
    "        y2=y[:,:,:,:,1].squeeze()        \n",
    "        y=torch.cat((y1,y2),0)\n",
    "        y=self.base(y)\n",
    "        tmp=int(y.shape[0]/2)\n",
    "        y1=y[:tmp,:]\n",
    "        y2=y[tmp:,:]\n",
    "        y=torch.cat((y1,y2),-1)\n",
    "        y=self.sigmoid(self.fc(self.dropout(y)))\n",
    "        return y"
   ]
  },
  {
   "cell_type": "code",
   "execution_count": null,
   "id": "9d7a8f5c",
   "metadata": {
    "execution": {
     "iopub.execute_input": "2022-07-11T09:07:50.284488Z",
     "iopub.status.busy": "2022-07-11T09:07:50.282590Z",
     "iopub.status.idle": "2022-07-11T09:07:50.296886Z",
     "shell.execute_reply": "2022-07-11T09:07:50.295436Z",
     "shell.execute_reply.started": "2022-07-11T09:07:50.284426Z"
    },
    "papermill": {
     "duration": null,
     "end_time": null,
     "exception": null,
     "start_time": null,
     "status": "pending"
    },
    "tags": []
   },
   "outputs": [],
   "source": [
    "train_dataloader.dataset.mode"
   ]
  },
  {
   "cell_type": "code",
   "execution_count": null,
   "id": "a363c108",
   "metadata": {
    "execution": {
     "iopub.execute_input": "2022-07-11T09:27:41.206317Z",
     "iopub.status.busy": "2022-07-11T09:27:41.205783Z",
     "iopub.status.idle": "2022-07-11T09:27:41.487667Z",
     "shell.execute_reply": "2022-07-11T09:27:41.485643Z",
     "shell.execute_reply.started": "2022-07-11T09:27:41.206271Z"
    },
    "papermill": {
     "duration": null,
     "end_time": null,
     "exception": null,
     "start_time": null,
     "status": "pending"
    },
    "tags": []
   },
   "outputs": [],
   "source": [
    "model=classifier_model(base,extarct_feat).to(device)\n",
    "with torch.no_grad():\n",
    "    print(model(training_data.to(device)).shape)"
   ]
  },
  {
   "cell_type": "code",
   "execution_count": null,
   "id": "22a5159d",
   "metadata": {
    "execution": {
     "iopub.execute_input": "2022-07-11T14:30:24.464780Z",
     "iopub.status.busy": "2022-07-11T14:30:24.464106Z",
     "iopub.status.idle": "2022-07-11T14:30:26.250773Z",
     "shell.execute_reply": "2022-07-11T14:30:26.249488Z",
     "shell.execute_reply.started": "2022-07-11T14:30:24.464726Z"
    },
    "papermill": {
     "duration": null,
     "end_time": null,
     "exception": null,
     "start_time": null,
     "status": "pending"
    },
    "tags": []
   },
   "outputs": [],
   "source": [
    "import gc\n",
    "gc.collect(generation=2)\n",
    "gc.collect()\n",
    "torch.cuda.empty_cache()\n",
    "\n",
    "!nvidia-smi\n",
    "print(\"memory reserved by caching allocator\", torch.cuda.memory_reserved()/(1024*1024*1024))\n",
    "\n"
   ]
  },
  {
   "cell_type": "code",
   "execution_count": null,
   "id": "c7f3c92d",
   "metadata": {
    "execution": {
     "iopub.execute_input": "2022-07-11T14:52:06.892535Z",
     "iopub.status.busy": "2022-07-11T14:52:06.892180Z",
     "iopub.status.idle": "2022-07-11T14:52:08.954392Z",
     "shell.execute_reply": "2022-07-11T14:52:08.953242Z",
     "shell.execute_reply.started": "2022-07-11T14:52:06.892504Z"
    },
    "papermill": {
     "duration": null,
     "end_time": null,
     "exception": null,
     "start_time": null,
     "status": "pending"
    },
    "tags": []
   },
   "outputs": [],
   "source": [
    "import torch\n",
    "from sklearn.model_selection import StratifiedKFold\n",
    "\n",
    "base=\"alex\"\n",
    "\n",
    "NUM_CLASSES=3    \n",
    "NUM_FOLDS=4\n",
    "NUM_EPOCHS = 10\n",
    "extarct_feat=True\n",
    "LR=1e-4\n",
    "\n",
    "skf = StratifiedKFold(n_splits=NUM_FOLDS)\n",
    "iterator = skf.split(train_data.Image_id, train_data.Label)\n",
    "mem_track = mem_tracker()\n",
    "mem_track.get_mem()\n",
    "\n",
    "device=torch.device(\"cuda\" if torch.cuda.is_available() else 'cpu') \n",
    "model=classifier_model(base,extarct_feat).to(device)\n",
    "# model.classifier.requires_grad_(True)\n",
    "model.requires_grad_(True)\n",
    "# model =classifier_model(vgg_model).to(device)\n",
    "\n",
    "optimiser= torch.optim.Adam(params2update(model,extarct_feat),LR)\n",
    "scheduler = torch.optim.lr_scheduler.ExponentialLR(optimiser, gamma=0.99)\n",
    "# from torchsummary import summary\n",
    "# summary(model,(3,224,224))\n",
    "\n",
    "mem_track.get_mem()"
   ]
  },
  {
   "cell_type": "code",
   "execution_count": null,
   "id": "fe694dd7",
   "metadata": {
    "execution": {
     "iopub.execute_input": "2022-07-11T14:05:31.373493Z",
     "iopub.status.busy": "2022-07-11T14:05:31.372992Z",
     "iopub.status.idle": "2022-07-11T14:05:31.385573Z",
     "shell.execute_reply": "2022-07-11T14:05:31.384107Z",
     "shell.execute_reply.started": "2022-07-11T14:05:31.373448Z"
    },
    "papermill": {
     "duration": null,
     "end_time": null,
     "exception": null,
     "start_time": null,
     "status": "pending"
    },
    "tags": []
   },
   "outputs": [],
   "source": [
    "import numpy as np\n",
    "\n",
    "encode_dict = {'healthy':0,'brown':1,'blast':2}\n",
    "counts=train_data.Label.value_counts()\n",
    "weights=[0,0,0]\n",
    "for key in list(encode_dict.keys()):\n",
    "    weights[encode_dict[key]]=counts[key]\n",
    "\n",
    "weights=1/np.array(weights)\n",
    "weights=weights/weights.sum()\n",
    "weights=torch.tensor(weights).to(device).float()"
   ]
  },
  {
   "cell_type": "code",
   "execution_count": null,
   "id": "3852fd14",
   "metadata": {
    "execution": {
     "iopub.execute_input": "2022-07-11T13:53:50.827852Z",
     "iopub.status.busy": "2022-07-11T13:53:50.827481Z",
     "iopub.status.idle": "2022-07-11T13:53:50.834494Z",
     "shell.execute_reply": "2022-07-11T13:53:50.833021Z",
     "shell.execute_reply.started": "2022-07-11T13:53:50.827823Z"
    },
    "papermill": {
     "duration": null,
     "end_time": null,
     "exception": null,
     "start_time": null,
     "status": "pending"
    },
    "tags": []
   },
   "outputs": [],
   "source": [
    "def decay_lr(param,step,max_step, start_lr ,last_lr ):\n",
    "    lr=((np.sqrt(max_step)*last_lr)/(start_lr*np.sqrt(3*step)))\n",
    "    param[\"lr\"]=lr\n",
    "\n",
    "\n",
    "# steps=np.linspace(1,20*2,40)\n",
    "# out=[decay_lr(step,40,1e-3,1e-6) for step in steps]\n",
    "# plt.plot(out)"
   ]
  },
  {
   "cell_type": "code",
   "execution_count": null,
   "id": "2d4f0e4f",
   "metadata": {
    "execution": {
     "iopub.execute_input": "2022-07-11T14:53:26.694564Z",
     "iopub.status.busy": "2022-07-11T14:53:26.693888Z",
     "iopub.status.idle": "2022-07-11T14:53:26.706779Z",
     "shell.execute_reply": "2022-07-11T14:53:26.705571Z",
     "shell.execute_reply.started": "2022-07-11T14:53:26.694506Z"
    },
    "papermill": {
     "duration": null,
     "end_time": null,
     "exception": null,
     "start_time": null,
     "status": "pending"
    },
    "tags": []
   },
   "outputs": [],
   "source": [
    "# train_data=train_data.iloc[:200,:]\n",
    "\n",
    "skf = StratifiedKFold(n_splits=NUM_FOLDS)\n",
    "fold_iterator = skf.split(train_data.Image_id, train_data.Label)\n",
    "\n",
    "# for train_index, val_index in iterator:\n",
    "#     print(len(val_index)/(len(train_index)+len(val_index)))\n",
    "#     print(len(train_index)/256)"
   ]
  },
  {
   "cell_type": "code",
   "execution_count": null,
   "id": "65ef4a78",
   "metadata": {
    "execution": {
     "iopub.execute_input": "2022-07-11T14:53:33.131644Z",
     "iopub.status.busy": "2022-07-11T14:53:33.131289Z",
     "iopub.status.idle": "2022-07-11T14:54:02.702007Z",
     "shell.execute_reply": "2022-07-11T14:54:02.700315Z",
     "shell.execute_reply.started": "2022-07-11T14:53:33.131614Z"
    },
    "papermill": {
     "duration": null,
     "end_time": null,
     "exception": null,
     "start_time": null,
     "status": "pending"
    },
    "tags": []
   },
   "outputs": [],
   "source": [
    "fold = 0\n",
    "train_batch_size=256\n",
    "for train_index, val_index in fold_iterator:\n",
    "    print(f\"starting fold {fold} ------------------------------ \")\n",
    "    fold+=1\n",
    "    train_dataset=custom_dataset(train_data.iloc[train_index,:].reset_index(drop=True),IMAGES)\n",
    "    val_dataset = custom_dataset(train_data.iloc[val_index,:].reset_index(drop=True),IMAGES)\n",
    "    val_dataloader=DataLoader(val_dataset,batch_size=32,num_workers=0)\n",
    "    train_dataloader=DataLoader(train_dataset,batch_size=train_batch_size,num_workers=0)\n",
    "    train_dataloader.dataset.set_mode(2)\n",
    "    val_dataloader.dataset.set_mode(2)\n",
    "    for epoch in range(NUM_EPOCHS):\n",
    "\n",
    "        running_loss,iterator= 0,iter(train_dataloader)\n",
    "\n",
    "        for i in range(len(iterator)):\n",
    "            print(i)    \n",
    "            training_data,training_lab=next(iterator)\n",
    "\n",
    "            output = model(training_data.to(device))\n",
    "            loss = nn.functional.cross_entropy(output,training_lab.to(device),weight=weights)\n",
    "            \n",
    "            running_loss+=loss\n",
    "\n",
    "            loss.backward()\n",
    "            \n",
    "            if i%4==3:\n",
    "                optimiser.step()\n",
    "                optimiser.zero_grad()\n",
    "                     \n",
    "        train_dataloader.dataset.set_use_cache(True)   #use cache\n",
    "            \n",
    "        #validation run\n",
    "        if epoch%6==5:\n",
    "            \n",
    "            val_loss,val_iterator = 0,iter(val_dataloader)\n",
    "            with torch.no_grad():\n",
    "                for k in range(len(val_dataloader)):                \n",
    "                    val_data,val_lab = next(iter(val_dataloader))\n",
    "                    val_output = model.eval()(val_data.to(device))\n",
    "                    val_loss += nn.functional.cross_entropy(val_output,val_lab.to(device))    \n",
    "            print(f'validation run ---- validation loss = {val_loss/k}')\n",
    "            val_dataloader.dataset.set_use_cache(True)\n",
    "            \n",
    "            \n",
    "        model.train()\n",
    "        scheduler.step()\n",
    "        running_loss=running_loss/i\n",
    "        print(f'epoch[{epoch+1}]/[{NUM_EPOCHS}]  training loss --- {running_loss} --- lr-- {optimiser.param_groups[0][\"lr\"]}') \n",
    "        \n",
    "    del train_dataloader\n",
    "    del val_dataloader"
   ]
  },
  {
   "cell_type": "code",
   "execution_count": null,
   "id": "44e290d7",
   "metadata": {
    "execution": {
     "iopub.execute_input": "2022-07-11T12:13:32.980835Z",
     "iopub.status.busy": "2022-07-11T12:13:32.980417Z",
     "iopub.status.idle": "2022-07-11T12:13:33.293642Z",
     "shell.execute_reply": "2022-07-11T12:13:33.292266Z",
     "shell.execute_reply.started": "2022-07-11T12:13:32.980805Z"
    },
    "papermill": {
     "duration": null,
     "end_time": null,
     "exception": null,
     "start_time": null,
     "status": "pending"
    },
    "tags": []
   },
   "outputs": [],
   "source": [
    "test_table = pd.read_csv(DATA_PATH+\"/SampleSubmission.csv\")\n",
    "idx_to_drop=[]\n",
    "for i,row in  enumerate(test_table.Image_id):\n",
    "    if test_table.Image_id[i][-8:-4]==\"_rgn\":\n",
    "        idx_to_drop.append(i)\n",
    "        \n",
    "test_table.drop(index=idx_to_drop, inplace=True)\n",
    "test_table.reset_index(drop=True,inplace=True)\n",
    "\n",
    "test_dataset=custom_dataset(test_table,IMAGES,type_='test')\n",
    "test_dataloader = DataLoader(test_dataset,batch_size=128,shuffle=False) \n",
    "test_dataloader.dataset.set_mode(2)"
   ]
  },
  {
   "cell_type": "code",
   "execution_count": null,
   "id": "b7148fcf",
   "metadata": {
    "execution": {
     "iopub.execute_input": "2022-07-11T10:20:50.474161Z",
     "iopub.status.busy": "2022-07-11T10:20:50.472981Z",
     "iopub.status.idle": "2022-07-11T10:20:50.486353Z",
     "shell.execute_reply": "2022-07-11T10:20:50.483731Z",
     "shell.execute_reply.started": "2022-07-11T10:20:50.474085Z"
    },
    "papermill": {
     "duration": null,
     "end_time": null,
     "exception": null,
     "start_time": null,
     "status": "pending"
    },
    "tags": []
   },
   "outputs": [],
   "source": [
    "len(test_dataloader)"
   ]
  },
  {
   "cell_type": "code",
   "execution_count": null,
   "id": "9f1b3020",
   "metadata": {
    "execution": {
     "iopub.execute_input": "2022-07-11T12:13:35.444378Z",
     "iopub.status.busy": "2022-07-11T12:13:35.443593Z",
     "iopub.status.idle": "2022-07-11T12:15:16.350348Z",
     "shell.execute_reply": "2022-07-11T12:15:16.348922Z",
     "shell.execute_reply.started": "2022-07-11T12:13:35.444339Z"
    },
    "papermill": {
     "duration": null,
     "end_time": null,
     "exception": null,
     "start_time": null,
     "status": "pending"
    },
    "tags": []
   },
   "outputs": [],
   "source": [
    "test_iter=iter(test_dataloader)\n",
    "test_output=torch.tensor([]).to(device)\n",
    "for i,data in enumerate(test_iter):\n",
    "    print(i)\n",
    "    with torch.no_grad():\n",
    "        test_output = torch.cat((test_output,model.eval()(data.to(device))),0)\n"
   ]
  },
  {
   "cell_type": "code",
   "execution_count": null,
   "id": "b0664cbd",
   "metadata": {
    "execution": {
     "iopub.execute_input": "2022-07-11T12:15:16.353995Z",
     "iopub.status.busy": "2022-07-11T12:15:16.353493Z",
     "iopub.status.idle": "2022-07-11T12:15:16.396177Z",
     "shell.execute_reply": "2022-07-11T12:15:16.394735Z",
     "shell.execute_reply.started": "2022-07-11T12:15:16.353922Z"
    },
    "papermill": {
     "duration": null,
     "end_time": null,
     "exception": null,
     "start_time": null,
     "status": "pending"
    },
    "tags": []
   },
   "outputs": [],
   "source": [
    "submission_table = pd.read_csv(DATA_PATH+\"/SampleSubmission.csv\")\n",
    "\n",
    "encode_dict = {'healthy':0,'brown':1,'blast':2}\n",
    "submission_table[\"blast\"] = test_output[:,2].cpu()\n",
    "submission_table[\"brown\"] = test_output[:,1].cpu()\n",
    "submission_table[\"healthy\"] = test_output[:,0].cpu()\n",
    "print(submission_table)"
   ]
  },
  {
   "cell_type": "code",
   "execution_count": null,
   "id": "0d215d33",
   "metadata": {
    "execution": {
     "iopub.execute_input": "2022-07-08T07:47:34.342259Z",
     "iopub.status.busy": "2022-07-08T07:47:34.341607Z",
     "iopub.status.idle": "2022-07-08T07:47:34.353403Z",
     "shell.execute_reply": "2022-07-08T07:47:34.352419Z",
     "shell.execute_reply.started": "2022-07-08T07:47:34.342224Z"
    },
    "papermill": {
     "duration": null,
     "end_time": null,
     "exception": null,
     "start_time": null,
     "status": "pending"
    },
    "tags": []
   },
   "outputs": [],
   "source": [
    "np.where([test_table.Image_id=='id_zlht6gd0y2.jpg'])\n",
    "min_=submission_table.iloc[:,1:].min(1)\n",
    "# [=submission_table[name]-min_  ] \n",
    "for name in ['healthy','brown','blast']:\n",
    "    submission_table[name]=submission_table[name]-min_\n"
   ]
  },
  {
   "cell_type": "code",
   "execution_count": null,
   "id": "e5df413e",
   "metadata": {
    "execution": {
     "iopub.execute_input": "2022-07-08T07:51:48.546435Z",
     "iopub.status.busy": "2022-07-08T07:51:48.546085Z",
     "iopub.status.idle": "2022-07-08T07:51:48.554404Z",
     "shell.execute_reply": "2022-07-08T07:51:48.553286Z",
     "shell.execute_reply.started": "2022-07-08T07:51:48.546405Z"
    },
    "papermill": {
     "duration": null,
     "end_time": null,
     "exception": null,
     "start_time": null,
     "status": "pending"
    },
    "tags": []
   },
   "outputs": [],
   "source": [
    "submission_table.columns"
   ]
  },
  {
   "cell_type": "code",
   "execution_count": null,
   "id": "4f95ef5d",
   "metadata": {
    "execution": {
     "iopub.execute_input": "2022-07-11T12:15:53.567167Z",
     "iopub.status.busy": "2022-07-11T12:15:53.566803Z",
     "iopub.status.idle": "2022-07-11T12:15:53.583696Z",
     "shell.execute_reply": "2022-07-11T12:15:53.581897Z",
     "shell.execute_reply.started": "2022-07-11T12:15:53.567138Z"
    },
    "papermill": {
     "duration": null,
     "end_time": null,
     "exception": null,
     "start_time": null,
     "status": "pending"
    },
    "tags": []
   },
   "outputs": [],
   "source": [
    "submission_table.to_csv(\"submission_b00ss3my.csv\",index=False)\n"
   ]
  }
 ],
 "metadata": {
  "kernelspec": {
   "display_name": "Python 3",
   "language": "python",
   "name": "python3"
  },
  "language_info": {
   "codemirror_mode": {
    "name": "ipython",
    "version": 3
   },
   "file_extension": ".py",
   "mimetype": "text/x-python",
   "name": "python",
   "nbconvert_exporter": "python",
   "pygments_lexer": "ipython3",
   "version": "3.6.4"
  },
  "papermill": {
   "default_parameters": {},
   "duration": null,
   "end_time": null,
   "environment_variables": {},
   "exception": null,
   "input_path": "__notebook__.ipynb",
   "output_path": "__notebook__.ipynb",
   "parameters": {},
   "start_time": "2022-07-11T14:54:43.108532",
   "version": "2.3.4"
  }
 },
 "nbformat": 4,
 "nbformat_minor": 5
}